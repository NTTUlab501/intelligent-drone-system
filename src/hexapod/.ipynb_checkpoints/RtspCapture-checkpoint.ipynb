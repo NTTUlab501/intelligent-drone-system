{
 "cells": [
  {
   "cell_type": "code",
   "execution_count": 1,
   "id": "3c586780",
   "metadata": {},
   "outputs": [
    {
     "ename": "TypeError",
     "evalue": "start() missing 1 required positional argument: 'self'",
     "output_type": "error",
     "traceback": [
      "\u001b[1;31m---------------------------------------------------------------------------\u001b[0m",
      "\u001b[1;31mTypeError\u001b[0m                                 Traceback (most recent call last)",
      "Input \u001b[1;32mIn [1]\u001b[0m, in \u001b[0;36m<cell line: 66>\u001b[1;34m()\u001b[0m\n\u001b[0;32m     63\u001b[0m             \u001b[38;5;28mself\u001b[39m\u001b[38;5;241m.\u001b[39mlock\u001b[38;5;241m.\u001b[39mrelease()\n\u001b[0;32m     64\u001b[0m             \u001b[38;5;28;01mreturn\u001b[39;00m jpg\n\u001b[1;32m---> 66\u001b[0m \u001b[43mRtspCapture\u001b[49m\u001b[38;5;241;43m.\u001b[39;49m\u001b[43mstart\u001b[49m\u001b[43m(\u001b[49m\u001b[43m)\u001b[49m\n",
      "\u001b[1;31mTypeError\u001b[0m: start() missing 1 required positional argument: 'self'"
     ]
    }
   ],
   "source": [
    "import os\n",
    "import cv2\n",
    "import time\n",
    "import threading\n",
    "import queue\n",
    "\n",
    "\n",
    " \n",
    "class RtspCapture(object):\n",
    "    read_thread = None  # background thread that reads frames from camera\n",
    "    get_thread = None  # 从imglist中获取帧的进程\n",
    "    pop_frame = None  # current frame is stored here by background thread\n",
    "    last_access = 0  # time of last client access to the camera\n",
    "    imgList = None\n",
    "    top = 100\n",
    "    lock = None\n",
    " \n",
    "    def __init__(self):\n",
    "        top = 100\n",
    " \n",
    "    def start(self):\n",
    "        # self.imgList = Manager().list()\n",
    "        self.imgList = queue.Queue(self.top)\n",
    "        self.lock = threading.Lock()\n",
    "        if self.read_thread is None:\n",
    "            # start background frame thread\n",
    "            self.read_thread = threading.Thread(target=self.read)\n",
    "            self.read_thread.start()\n",
    " \n",
    "        if self.get_thread is None:\n",
    "            self.last_access = time.time()\n",
    "            self.get_thread = threading.Thread(target=self.get_frame)\n",
    "            self.get_thread.start()\n",
    " \n",
    "    # 向共享缓冲栈中写入数据:\n",
    "    def read(self):\n",
    "        print('Process to write: %s' % os.getpid())\n",
    "        cap = cv2.VideoCapture(0)\n",
    "        while True:\n",
    "            _, img = cap.read()\n",
    "            if _:\n",
    "                if self.imgList.full():\n",
    "                    self.imgList.get()\n",
    "                self.imgList.put(img)\n",
    " \n",
    "    # 在缓冲栈中读取数据:\n",
    "    def get_frame(self):\n",
    "        print('Process to get: %s' % os.getpid())\n",
    "        while True:\n",
    "            if not self.imgList.empty():\n",
    "                self.lock.acquire()\n",
    "                value = self.imgList.get(False)  # 非阻塞方法\n",
    "                self.pop_frame = value\n",
    "                self.lock.release()\n",
    " \n",
    "    def cap_frame(self):\n",
    "        if self.pop_frame is None:\n",
    "            print('frame is None')\n",
    "        else:\n",
    "            # print('set frame')\n",
    "            self.lock.acquire()\n",
    "            jpg = cv2.imencode('.jpg', self.pop_frame)[1].tobytes()\n",
    "            self.lock.release()\n",
    "            return jpg"
   ]
  },
  {
   "cell_type": "code",
   "execution_count": null,
   "id": "edba4792",
   "metadata": {},
   "outputs": [],
   "source": []
  }
 ],
 "metadata": {
  "kernelspec": {
   "display_name": "Python 3 (ipykernel)",
   "language": "python",
   "name": "python3"
  },
  "language_info": {
   "codemirror_mode": {
    "name": "ipython",
    "version": 3
   },
   "file_extension": ".py",
   "mimetype": "text/x-python",
   "name": "python",
   "nbconvert_exporter": "python",
   "pygments_lexer": "ipython3",
   "version": "3.9.12"
  }
 },
 "nbformat": 4,
 "nbformat_minor": 5
}
