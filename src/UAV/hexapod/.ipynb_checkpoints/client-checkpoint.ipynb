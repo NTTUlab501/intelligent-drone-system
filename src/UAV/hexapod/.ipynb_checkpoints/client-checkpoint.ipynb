{
 "cells": [
  {
   "cell_type": "code",
   "execution_count": null,
   "id": "5ff8f0c5",
   "metadata": {},
   "outputs": [
    {
     "name": "stdout",
     "output_type": "stream",
     "text": [
      "initializing...\n",
      "connect backend...\n",
      "connect\n",
      "\u001b[1;32;1mcomplete\u001b[0m\n",
      "123\n"
     ]
    },
    {
     "name": "stderr",
     "output_type": "stream",
     "text": [
      "Exception in thread Thread-7:\n",
      "Traceback (most recent call last):\n",
      "  File \"C:\\ProgramData\\Anaconda3\\lib\\threading.py\", line 973, in _bootstrap_inner\n",
      "    self.run()\n",
      "  File \"C:\\ProgramData\\Anaconda3\\lib\\threading.py\", line 910, in run\n",
      "    self._target(*self._args, **self._kwargs)\n",
      "  File \"C:\\Users\\Bryan\\hexapod\\robot_util\\Spiderbot.py\", line 110, in dpu_detect\n",
      "    aqi = ret.stdout.decode('utf-8')[0]\n",
      "IndexError: string index out of range\n"
     ]
    }
   ],
   "source": [
    "# from test import run_ActionGroup\n",
    "from robot_util.Spiderbot import SpiderBot\n",
    "\n",
    "# run_ActionGroup(\"2\", 4)\n",
    "\n",
    "robot = SpiderBot(2, \"192.168.2.1\", 9999)\n",
    "#robot = SpiderBot(2, \"192.168.0.177\", 9999)\n",
    "#robot.pynqZ2.connect() # 接pynqZ2的時候打開\n",
    "\n",
    "robot.start()"
   ]
  },
  {
   "cell_type": "code",
   "execution_count": null,
   "id": "bfddeb78",
   "metadata": {},
   "outputs": [
    {
     "name": "stdout",
     "output_type": "stream",
     "text": [
      "camara is open\n",
      "camara is open\n",
      "camara is open\n"
     ]
    }
   ],
   "source": [
    "import cv2\n",
    "while True:\n",
    "    try:\n",
    "        video = cv2.VideoCapture(0)\n",
    "        if not video.isOpened():\n",
    "            print(\"no camara\")\n",
    "        else:\n",
    "            print(\"camara is open\")\n",
    "    except:\n",
    "        pass"
   ]
  },
  {
   "cell_type": "code",
   "execution_count": 4,
   "id": "6ee82329",
   "metadata": {},
   "outputs": [
    {
     "ename": "KeyboardInterrupt",
     "evalue": "",
     "output_type": "error",
     "traceback": [
      "\u001b[1;31m---------------------------------------------------------------------------\u001b[0m",
      "\u001b[1;31mKeyboardInterrupt\u001b[0m                         Traceback (most recent call last)",
      "Input \u001b[1;32mIn [4]\u001b[0m, in \u001b[0;36m<cell line: 6>\u001b[1;34m()\u001b[0m\n\u001b[0;32m      4\u001b[0m i\u001b[38;5;241m=\u001b[39m\u001b[38;5;241m0\u001b[39m\n\u001b[0;32m      5\u001b[0m \u001b[38;5;28;01mwhile\u001b[39;00m(\u001b[38;5;241m1\u001b[39m):\n\u001b[1;32m----> 6\u001b[0m     ret ,frame \u001b[38;5;241m=\u001b[39m \u001b[43mcap\u001b[49m\u001b[38;5;241;43m.\u001b[39;49m\u001b[43mread\u001b[49m\u001b[43m(\u001b[49m\u001b[43m)\u001b[49m\n\u001b[0;32m      7\u001b[0m     k\u001b[38;5;241m=\u001b[39mcv2\u001b[38;5;241m.\u001b[39mwaitKey(\u001b[38;5;241m1\u001b[39m)\n\u001b[0;32m      8\u001b[0m     \u001b[38;5;28;01mif\u001b[39;00m k\u001b[38;5;241m==\u001b[39m\u001b[38;5;241m27\u001b[39m:\n",
      "\u001b[1;31mKeyboardInterrupt\u001b[0m: "
     ]
    }
   ],
   "source": [
    "import cv2\n",
    " \n",
    "cap=cv2.VideoCapture(0)\n",
    "i=0\n",
    "while(1):\n",
    "    ret ,frame = cap.read()\n",
    "    k=cv2.waitKey(1)\n",
    "    if k==27:\n",
    "        break\n",
    "    elif k==ord('s'):\n",
    "        i+=1\n",
    "    #image_data = cv2.imencode('.jpg', frame)[1]\n",
    "    #image_data = base64.b64encode(image_data).decode()\n",
    "    cv2.imshow(\"capture\", frame)"
   ]
  },
  {
   "cell_type": "code",
   "execution_count": 5,
   "id": "2c650077",
   "metadata": {},
   "outputs": [],
   "source": [
    "cap.release()\n",
    "cv2.destroyAllWindows()"
   ]
  },
  {
   "cell_type": "code",
   "execution_count": null,
   "id": "5ba40e6b",
   "metadata": {},
   "outputs": [],
   "source": []
  }
 ],
 "metadata": {
  "kernelspec": {
   "display_name": "Python 3 (ipykernel)",
   "language": "python",
   "name": "python3"
  },
  "language_info": {
   "codemirror_mode": {
    "name": "ipython",
    "version": 3
   },
   "file_extension": ".py",
   "mimetype": "text/x-python",
   "name": "python",
   "nbconvert_exporter": "python",
   "pygments_lexer": "ipython3",
   "version": "3.9.12"
  }
 },
 "nbformat": 4,
 "nbformat_minor": 5
}
